{
 "cells": [
  {
   "cell_type": "code",
   "execution_count": 1,
   "metadata": {},
   "outputs": [],
   "source": [
    "import numpy as np\n",
    "from google_images_download import google_images_download\n",
    "response = google_images_download.googleimagesdownload()"
   ]
  },
  {
   "cell_type": "code",
   "execution_count": 4,
   "metadata": {},
   "outputs": [],
   "source": [
    "plants = [\n",
    "    \"dzięgiel litwor\",\n",
    "    \"konwalia majowa\",\n",
    "    \"mniszek pospolity\",\n",
    "    \"oset siny\",\n",
    "    \"paprotka zwyczajna\",\n",
    "    \"rdest plamisty\"\n",
    "]"
   ]
  },
  {
   "cell_type": "code",
   "execution_count": 3,
   "metadata": {},
   "outputs": [],
   "source": [
    "def download(name, n):\n",
    "    arguments = {\n",
    "        \"keywords\": name,\n",
    "        \"image_directory\": name.replace('\"', ''),\n",
    "        \"limit\":n,\n",
    "        \"print_urls\":False,\n",
    "        \"size\":\">400*300\"\n",
    "    }\n",
    "    paths = response.download(arguments)"
   ]
  },
  {
   "cell_type": "code",
   "execution_count": 7,
   "metadata": {},
   "outputs": [],
   "source": [
    "if 0:\n",
    "    for plant in plants:\n",
    "        download(plant, 30)"
   ]
  },
  {
   "cell_type": "code",
   "execution_count": 22,
   "metadata": {},
   "outputs": [],
   "source": [
    "import os\n",
    "from PIL import Image"
   ]
  },
  {
   "cell_type": "code",
   "execution_count": 35,
   "metadata": {},
   "outputs": [],
   "source": [
    "if 0:\n",
    "    for directory in os.listdir('downloads'):\n",
    "        for i, file in enumerate(os.listdir('downloads/' + directory)):\n",
    "            with Image.open('downloads/' + directory + '/' + file) as img:\n",
    "                dest = 'resized/' + directory + '/' + directory + '-' + str(i) + '.png'\n",
    "                os.makedirs(os.path.dirname(dest), exist_ok=True)\n",
    "                img.resize((224,224)).save(dest)"
   ]
  },
  {
   "cell_type": "code",
   "execution_count": null,
   "metadata": {},
   "outputs": [],
   "source": []
  }
 ],
 "metadata": {
  "kernelspec": {
   "display_name": "Python 3",
   "language": "python",
   "name": "python3"
  },
  "language_info": {
   "codemirror_mode": {
    "name": "ipython",
    "version": 3
   },
   "file_extension": ".py",
   "mimetype": "text/x-python",
   "name": "python",
   "nbconvert_exporter": "python",
   "pygments_lexer": "ipython3",
   "version": "3.8.5"
  }
 },
 "nbformat": 4,
 "nbformat_minor": 4
}
