{
 "cells": [
  {
   "cell_type": "code",
   "execution_count": 1,
   "metadata": {},
   "outputs": [],
   "source": [
    "import numpy as np\n",
    "import os\n",
    "from sklearn.decomposition import PCA\n",
    "import tensorflow.keras as keras\n",
    "from sklearn.model_selection import StratifiedShuffleSplit"
   ]
  },
  {
   "cell_type": "code",
   "execution_count": 2,
   "metadata": {},
   "outputs": [],
   "source": [
    "X_per_class = []\n",
    "labels = []\n",
    "\n",
    "current_label = 0\n",
    "\n",
    "for filename in os.listdir('nn_encoded'):\n",
    "    plants = np.load('nn_encoded/' + filename)\n",
    "    plant_name = filename.split('.')[0]\n",
    "    \n",
    "    X_per_class += [plants.reshape([plants.shape[0], -1])]\n",
    "    labels += [current_label for _ in range(plants.shape[0])]\n",
    "    current_label += 1\n",
    "\n",
    "X_full = np.concatenate(X_per_class)\n",
    "y_full = np.array(labels)"
   ]
  },
  {
   "cell_type": "code",
   "execution_count": 3,
   "metadata": {},
   "outputs": [],
   "source": [
    "pca = PCA()"
   ]
  },
  {
   "cell_type": "code",
   "execution_count": 4,
   "metadata": {},
   "outputs": [
    {
     "data": {
      "text/plain": [
       "PCA()"
      ]
     },
     "execution_count": 4,
     "metadata": {},
     "output_type": "execute_result"
    }
   ],
   "source": [
    "pca.fit(X_full)"
   ]
  },
  {
   "cell_type": "code",
   "execution_count": 5,
   "metadata": {},
   "outputs": [],
   "source": [
    "#np.eye(current_label)[np.array([0,1,2])]\n",
    "y_full = np.eye(current_label)[y_full]"
   ]
  },
  {
   "cell_type": "code",
   "execution_count": 6,
   "metadata": {},
   "outputs": [],
   "source": [
    "X_pca = pca.transform(X_full)"
   ]
  },
  {
   "cell_type": "code",
   "execution_count": 28,
   "metadata": {},
   "outputs": [],
   "source": [
    "model = keras.models.Sequential([\n",
    "    keras.layers.Input(shape=X_pca.shape[1:]),\n",
    "    keras.layers.BatchNormalization(),\n",
    "    keras.layers.Dense(300, activation=\"relu\"),\n",
    "    keras.layers.BatchNormalization(),\n",
    "    keras.layers.Dense(100, activation=\"relu\"),\n",
    "    keras.layers.Dense(6, activation=\"softmax\")\n",
    "])"
   ]
  },
  {
   "cell_type": "code",
   "execution_count": 29,
   "metadata": {},
   "outputs": [],
   "source": [
    "model.compile(\n",
    "    loss=\"categorical_crossentropy\",\n",
    "    optimizer=\"sgd\",\n",
    "    metrics=[\"accuracy\"]\n",
    ")"
   ]
  },
  {
   "cell_type": "code",
   "execution_count": 30,
   "metadata": {},
   "outputs": [],
   "source": [
    "split = StratifiedShuffleSplit(n_splits=1, test_size=0.2, random_state=0)\n",
    "\n",
    "def get_train_and_valid(design_matrix, labels):\n",
    "    \"\"\"\n",
    "    Split dataset into training and validation sets.\n",
    "    \"\"\"\n",
    "    for train_idx, valid_idx in split.split(design_matrix, labels):\n",
    "        X_train = design_matrix[train_idx].copy()\n",
    "        X_valid = design_matrix[valid_idx].copy()\n",
    "        y_train = labels[train_idx].copy()\n",
    "        y_valid = labels[valid_idx].copy()\n",
    "\n",
    "    return X_train, y_train, X_valid, y_valid"
   ]
  },
  {
   "cell_type": "code",
   "execution_count": 31,
   "metadata": {},
   "outputs": [],
   "source": [
    "X_train, y_train, X_valid, y_valid = get_train_and_valid(X_pca, y_full)"
   ]
  },
  {
   "cell_type": "code",
   "execution_count": 32,
   "metadata": {},
   "outputs": [
    {
     "data": {
      "text/plain": [
       "(180,)"
      ]
     },
     "execution_count": 32,
     "metadata": {},
     "output_type": "execute_result"
    }
   ],
   "source": [
    "X_pca.shape[1:]"
   ]
  },
  {
   "cell_type": "code",
   "execution_count": 34,
   "metadata": {
    "scrolled": false
   },
   "outputs": [
    {
     "name": "stdout",
     "output_type": "stream",
     "text": [
      "Epoch 1/100\n",
      "5/5 [==============================] - 0s 10ms/step - loss: 0.2011 - accuracy: 1.0000 - val_loss: 1.9930 - val_accuracy: 0.3056\n",
      "Epoch 2/100\n",
      "5/5 [==============================] - 0s 4ms/step - loss: 0.1803 - accuracy: 1.0000 - val_loss: 1.9964 - val_accuracy: 0.3056\n",
      "Epoch 3/100\n",
      "5/5 [==============================] - 0s 5ms/step - loss: 0.1846 - accuracy: 1.0000 - val_loss: 1.9981 - val_accuracy: 0.3056\n",
      "Epoch 4/100\n",
      "5/5 [==============================] - 0s 12ms/step - loss: 0.1708 - accuracy: 1.0000 - val_loss: 2.0016 - val_accuracy: 0.3056\n",
      "Epoch 5/100\n",
      "5/5 [==============================] - 0s 6ms/step - loss: 0.1597 - accuracy: 1.0000 - val_loss: 2.0036 - val_accuracy: 0.3056\n",
      "Epoch 6/100\n",
      "5/5 [==============================] - 0s 6ms/step - loss: 0.1664 - accuracy: 0.9931 - val_loss: 2.0069 - val_accuracy: 0.3056\n",
      "Epoch 7/100\n",
      "5/5 [==============================] - 0s 6ms/step - loss: 0.1449 - accuracy: 1.0000 - val_loss: 2.0109 - val_accuracy: 0.3056\n",
      "Epoch 8/100\n",
      "5/5 [==============================] - 0s 7ms/step - loss: 0.1461 - accuracy: 1.0000 - val_loss: 2.0125 - val_accuracy: 0.3056\n",
      "Epoch 9/100\n",
      "5/5 [==============================] - 0s 4ms/step - loss: 0.1385 - accuracy: 1.0000 - val_loss: 2.0159 - val_accuracy: 0.3056\n",
      "Epoch 10/100\n",
      "5/5 [==============================] - 0s 6ms/step - loss: 0.1264 - accuracy: 1.0000 - val_loss: 2.0178 - val_accuracy: 0.3056\n",
      "Epoch 11/100\n",
      "5/5 [==============================] - 0s 6ms/step - loss: 0.1366 - accuracy: 1.0000 - val_loss: 2.0201 - val_accuracy: 0.3056\n",
      "Epoch 12/100\n",
      "5/5 [==============================] - 0s 5ms/step - loss: 0.1277 - accuracy: 1.0000 - val_loss: 2.0229 - val_accuracy: 0.3056\n",
      "Epoch 13/100\n",
      "5/5 [==============================] - 0s 6ms/step - loss: 0.1165 - accuracy: 1.0000 - val_loss: 2.0265 - val_accuracy: 0.3056\n",
      "Epoch 14/100\n",
      "5/5 [==============================] - 0s 5ms/step - loss: 0.1262 - accuracy: 1.0000 - val_loss: 2.0283 - val_accuracy: 0.3056\n",
      "Epoch 15/100\n",
      "5/5 [==============================] - 0s 6ms/step - loss: 0.1136 - accuracy: 1.0000 - val_loss: 2.0304 - val_accuracy: 0.3056\n",
      "Epoch 16/100\n",
      "5/5 [==============================] - 0s 5ms/step - loss: 0.1107 - accuracy: 1.0000 - val_loss: 2.0342 - val_accuracy: 0.3056\n",
      "Epoch 17/100\n",
      "5/5 [==============================] - 0s 6ms/step - loss: 0.1048 - accuracy: 1.0000 - val_loss: 2.0362 - val_accuracy: 0.3056\n",
      "Epoch 18/100\n",
      "5/5 [==============================] - 0s 5ms/step - loss: 0.1029 - accuracy: 1.0000 - val_loss: 2.0401 - val_accuracy: 0.3056\n",
      "Epoch 19/100\n",
      "5/5 [==============================] - 0s 3ms/step - loss: 0.0937 - accuracy: 1.0000 - val_loss: 2.0437 - val_accuracy: 0.3056\n",
      "Epoch 20/100\n",
      "5/5 [==============================] - 0s 4ms/step - loss: 0.0932 - accuracy: 1.0000 - val_loss: 2.0463 - val_accuracy: 0.2778\n",
      "Epoch 21/100\n",
      "5/5 [==============================] - 0s 5ms/step - loss: 0.0915 - accuracy: 1.0000 - val_loss: 2.0496 - val_accuracy: 0.2778\n",
      "Epoch 22/100\n",
      "5/5 [==============================] - 0s 5ms/step - loss: 0.0812 - accuracy: 1.0000 - val_loss: 2.0530 - val_accuracy: 0.2778\n",
      "Epoch 23/100\n",
      "5/5 [==============================] - 0s 7ms/step - loss: 0.0880 - accuracy: 1.0000 - val_loss: 2.0563 - val_accuracy: 0.2778\n",
      "Epoch 24/100\n",
      "5/5 [==============================] - 0s 6ms/step - loss: 0.0860 - accuracy: 1.0000 - val_loss: 2.0586 - val_accuracy: 0.2778\n",
      "Epoch 25/100\n",
      "5/5 [==============================] - 0s 5ms/step - loss: 0.0763 - accuracy: 1.0000 - val_loss: 2.0631 - val_accuracy: 0.2778\n",
      "Epoch 26/100\n",
      "5/5 [==============================] - 0s 4ms/step - loss: 0.0796 - accuracy: 1.0000 - val_loss: 2.0661 - val_accuracy: 0.2778\n",
      "Epoch 27/100\n",
      "5/5 [==============================] - 0s 5ms/step - loss: 0.0859 - accuracy: 1.0000 - val_loss: 2.0703 - val_accuracy: 0.2778\n",
      "Epoch 28/100\n",
      "5/5 [==============================] - 0s 6ms/step - loss: 0.0808 - accuracy: 1.0000 - val_loss: 2.0712 - val_accuracy: 0.2778\n",
      "Epoch 29/100\n",
      "5/5 [==============================] - 0s 7ms/step - loss: 0.0723 - accuracy: 1.0000 - val_loss: 2.0739 - val_accuracy: 0.2778\n",
      "Epoch 30/100\n",
      "5/5 [==============================] - 0s 5ms/step - loss: 0.0704 - accuracy: 1.0000 - val_loss: 2.0758 - val_accuracy: 0.2778\n",
      "Epoch 31/100\n",
      "5/5 [==============================] - 0s 6ms/step - loss: 0.0660 - accuracy: 1.0000 - val_loss: 2.0790 - val_accuracy: 0.2778\n",
      "Epoch 32/100\n",
      "5/5 [==============================] - 0s 5ms/step - loss: 0.0643 - accuracy: 1.0000 - val_loss: 2.0809 - val_accuracy: 0.2778\n",
      "Epoch 33/100\n",
      "5/5 [==============================] - 0s 6ms/step - loss: 0.0682 - accuracy: 1.0000 - val_loss: 2.0831 - val_accuracy: 0.2778\n",
      "Epoch 34/100\n",
      "5/5 [==============================] - 0s 6ms/step - loss: 0.0729 - accuracy: 1.0000 - val_loss: 2.0856 - val_accuracy: 0.2778\n",
      "Epoch 35/100\n",
      "5/5 [==============================] - 0s 6ms/step - loss: 0.0695 - accuracy: 1.0000 - val_loss: 2.0883 - val_accuracy: 0.2778\n",
      "Epoch 36/100\n",
      "5/5 [==============================] - 0s 6ms/step - loss: 0.0592 - accuracy: 1.0000 - val_loss: 2.0914 - val_accuracy: 0.2778\n",
      "Epoch 37/100\n",
      "5/5 [==============================] - 0s 5ms/step - loss: 0.0567 - accuracy: 1.0000 - val_loss: 2.0936 - val_accuracy: 0.2778\n",
      "Epoch 38/100\n",
      "5/5 [==============================] - 0s 6ms/step - loss: 0.0678 - accuracy: 1.0000 - val_loss: 2.0961 - val_accuracy: 0.2778\n",
      "Epoch 39/100\n",
      "5/5 [==============================] - 0s 4ms/step - loss: 0.0599 - accuracy: 1.0000 - val_loss: 2.0989 - val_accuracy: 0.2778\n",
      "Epoch 40/100\n",
      "5/5 [==============================] - 0s 5ms/step - loss: 0.0543 - accuracy: 1.0000 - val_loss: 2.1006 - val_accuracy: 0.2778\n",
      "Epoch 41/100\n",
      "5/5 [==============================] - 0s 6ms/step - loss: 0.0551 - accuracy: 1.0000 - val_loss: 2.1013 - val_accuracy: 0.2778\n",
      "Epoch 42/100\n",
      "5/5 [==============================] - 0s 4ms/step - loss: 0.0631 - accuracy: 1.0000 - val_loss: 2.1033 - val_accuracy: 0.2778\n",
      "Epoch 43/100\n",
      "5/5 [==============================] - 0s 7ms/step - loss: 0.0539 - accuracy: 1.0000 - val_loss: 2.1047 - val_accuracy: 0.2778\n",
      "Epoch 44/100\n",
      "5/5 [==============================] - 0s 6ms/step - loss: 0.0576 - accuracy: 1.0000 - val_loss: 2.1063 - val_accuracy: 0.2778\n",
      "Epoch 45/100\n",
      "5/5 [==============================] - 0s 5ms/step - loss: 0.0482 - accuracy: 1.0000 - val_loss: 2.1087 - val_accuracy: 0.2778\n",
      "Epoch 46/100\n",
      "5/5 [==============================] - 0s 6ms/step - loss: 0.0468 - accuracy: 1.0000 - val_loss: 2.1091 - val_accuracy: 0.2778\n",
      "Epoch 47/100\n",
      "5/5 [==============================] - 0s 6ms/step - loss: 0.0505 - accuracy: 1.0000 - val_loss: 2.1113 - val_accuracy: 0.2778\n",
      "Epoch 48/100\n",
      "5/5 [==============================] - 0s 6ms/step - loss: 0.0509 - accuracy: 1.0000 - val_loss: 2.1118 - val_accuracy: 0.2778\n",
      "Epoch 49/100\n",
      "5/5 [==============================] - 0s 5ms/step - loss: 0.0479 - accuracy: 1.0000 - val_loss: 2.1120 - val_accuracy: 0.2778\n",
      "Epoch 50/100\n",
      "5/5 [==============================] - 0s 6ms/step - loss: 0.0503 - accuracy: 1.0000 - val_loss: 2.1132 - val_accuracy: 0.2778\n",
      "Epoch 51/100\n",
      "5/5 [==============================] - 0s 7ms/step - loss: 0.0473 - accuracy: 1.0000 - val_loss: 2.1146 - val_accuracy: 0.2778\n",
      "Epoch 52/100\n",
      "5/5 [==============================] - 0s 6ms/step - loss: 0.0436 - accuracy: 1.0000 - val_loss: 2.1152 - val_accuracy: 0.2778\n",
      "Epoch 53/100\n",
      "5/5 [==============================] - 0s 5ms/step - loss: 0.0446 - accuracy: 1.0000 - val_loss: 2.1166 - val_accuracy: 0.2778\n",
      "Epoch 54/100\n",
      "5/5 [==============================] - 0s 4ms/step - loss: 0.0438 - accuracy: 1.0000 - val_loss: 2.1170 - val_accuracy: 0.2778\n",
      "Epoch 55/100\n",
      "5/5 [==============================] - 0s 6ms/step - loss: 0.0502 - accuracy: 1.0000 - val_loss: 2.1188 - val_accuracy: 0.2778\n",
      "Epoch 56/100\n",
      "5/5 [==============================] - 0s 6ms/step - loss: 0.0461 - accuracy: 1.0000 - val_loss: 2.1204 - val_accuracy: 0.2778\n",
      "Epoch 57/100\n",
      "5/5 [==============================] - 0s 5ms/step - loss: 0.0405 - accuracy: 1.0000 - val_loss: 2.1217 - val_accuracy: 0.2778\n",
      "Epoch 58/100\n",
      "5/5 [==============================] - 0s 5ms/step - loss: 0.0413 - accuracy: 1.0000 - val_loss: 2.1231 - val_accuracy: 0.2778\n",
      "Epoch 59/100\n",
      "5/5 [==============================] - 0s 8ms/step - loss: 0.0432 - accuracy: 1.0000 - val_loss: 2.1254 - val_accuracy: 0.2778\n",
      "Epoch 60/100\n",
      "5/5 [==============================] - 0s 5ms/step - loss: 0.0381 - accuracy: 1.0000 - val_loss: 2.1265 - val_accuracy: 0.2778\n",
      "Epoch 61/100\n",
      "5/5 [==============================] - 0s 6ms/step - loss: 0.0369 - accuracy: 1.0000 - val_loss: 2.1276 - val_accuracy: 0.2778\n",
      "Epoch 62/100\n",
      "5/5 [==============================] - 0s 6ms/step - loss: 0.0388 - accuracy: 1.0000 - val_loss: 2.1278 - val_accuracy: 0.2778\n",
      "Epoch 63/100\n",
      "5/5 [==============================] - 0s 6ms/step - loss: 0.0402 - accuracy: 1.0000 - val_loss: 2.1280 - val_accuracy: 0.2778\n",
      "Epoch 64/100\n",
      "5/5 [==============================] - 0s 4ms/step - loss: 0.0392 - accuracy: 1.0000 - val_loss: 2.1280 - val_accuracy: 0.2778\n",
      "Epoch 65/100\n",
      "5/5 [==============================] - 0s 5ms/step - loss: 0.0371 - accuracy: 1.0000 - val_loss: 2.1288 - val_accuracy: 0.2778\n",
      "Epoch 66/100\n",
      "5/5 [==============================] - 0s 5ms/step - loss: 0.0367 - accuracy: 1.0000 - val_loss: 2.1296 - val_accuracy: 0.2778\n",
      "Epoch 67/100\n",
      "5/5 [==============================] - 0s 6ms/step - loss: 0.0354 - accuracy: 1.0000 - val_loss: 2.1304 - val_accuracy: 0.2778\n",
      "Epoch 68/100\n",
      "5/5 [==============================] - 0s 6ms/step - loss: 0.0377 - accuracy: 1.0000 - val_loss: 2.1330 - val_accuracy: 0.2778\n",
      "Epoch 69/100\n",
      "5/5 [==============================] - 0s 5ms/step - loss: 0.0369 - accuracy: 1.0000 - val_loss: 2.1342 - val_accuracy: 0.2778\n",
      "Epoch 70/100\n",
      "5/5 [==============================] - 0s 7ms/step - loss: 0.0334 - accuracy: 1.0000 - val_loss: 2.1348 - val_accuracy: 0.2778\n",
      "Epoch 71/100\n",
      "5/5 [==============================] - 0s 5ms/step - loss: 0.0332 - accuracy: 1.0000 - val_loss: 2.1353 - val_accuracy: 0.2778\n",
      "Epoch 72/100\n",
      "5/5 [==============================] - 0s 4ms/step - loss: 0.0348 - accuracy: 1.0000 - val_loss: 2.1370 - val_accuracy: 0.2778\n",
      "Epoch 73/100\n",
      "5/5 [==============================] - 0s 4ms/step - loss: 0.0363 - accuracy: 1.0000 - val_loss: 2.1373 - val_accuracy: 0.2778\n",
      "Epoch 74/100\n",
      "5/5 [==============================] - 0s 4ms/step - loss: 0.0350 - accuracy: 1.0000 - val_loss: 2.1387 - val_accuracy: 0.2778\n",
      "Epoch 75/100\n",
      "5/5 [==============================] - 0s 4ms/step - loss: 0.0321 - accuracy: 1.0000 - val_loss: 2.1395 - val_accuracy: 0.2778\n",
      "Epoch 76/100\n",
      "5/5 [==============================] - 0s 5ms/step - loss: 0.0335 - accuracy: 1.0000 - val_loss: 2.1392 - val_accuracy: 0.2778\n",
      "Epoch 77/100\n",
      "5/5 [==============================] - 0s 8ms/step - loss: 0.0325 - accuracy: 1.0000 - val_loss: 2.1384 - val_accuracy: 0.2778\n",
      "Epoch 78/100\n",
      "5/5 [==============================] - 0s 9ms/step - loss: 0.0305 - accuracy: 1.0000 - val_loss: 2.1398 - val_accuracy: 0.2778\n",
      "Epoch 79/100\n",
      "5/5 [==============================] - 0s 5ms/step - loss: 0.0323 - accuracy: 1.0000 - val_loss: 2.1415 - val_accuracy: 0.2778\n",
      "Epoch 80/100\n",
      "5/5 [==============================] - 0s 5ms/step - loss: 0.0341 - accuracy: 1.0000 - val_loss: 2.1420 - val_accuracy: 0.2778\n",
      "Epoch 81/100\n",
      "5/5 [==============================] - 0s 5ms/step - loss: 0.0310 - accuracy: 1.0000 - val_loss: 2.1422 - val_accuracy: 0.2778\n",
      "Epoch 82/100\n",
      "5/5 [==============================] - 0s 6ms/step - loss: 0.0294 - accuracy: 1.0000 - val_loss: 2.1430 - val_accuracy: 0.2778\n",
      "Epoch 83/100\n",
      "5/5 [==============================] - 0s 6ms/step - loss: 0.0338 - accuracy: 1.0000 - val_loss: 2.1443 - val_accuracy: 0.2778\n",
      "Epoch 84/100\n",
      "5/5 [==============================] - 0s 4ms/step - loss: 0.0345 - accuracy: 1.0000 - val_loss: 2.1440 - val_accuracy: 0.2778\n",
      "Epoch 85/100\n",
      "5/5 [==============================] - 0s 5ms/step - loss: 0.0281 - accuracy: 1.0000 - val_loss: 2.1443 - val_accuracy: 0.2778\n",
      "Epoch 86/100\n",
      "5/5 [==============================] - 0s 5ms/step - loss: 0.0290 - accuracy: 1.0000 - val_loss: 2.1452 - val_accuracy: 0.2778\n",
      "Epoch 87/100\n",
      "5/5 [==============================] - 0s 5ms/step - loss: 0.0259 - accuracy: 1.0000 - val_loss: 2.1467 - val_accuracy: 0.2778\n",
      "Epoch 88/100\n",
      "5/5 [==============================] - 0s 5ms/step - loss: 0.0319 - accuracy: 1.0000 - val_loss: 2.1472 - val_accuracy: 0.2778\n",
      "Epoch 89/100\n",
      "5/5 [==============================] - 0s 6ms/step - loss: 0.0280 - accuracy: 1.0000 - val_loss: 2.1494 - val_accuracy: 0.2778\n",
      "Epoch 90/100\n",
      "5/5 [==============================] - 0s 8ms/step - loss: 0.0274 - accuracy: 1.0000 - val_loss: 2.1503 - val_accuracy: 0.2778\n",
      "Epoch 91/100\n",
      "5/5 [==============================] - 0s 5ms/step - loss: 0.0280 - accuracy: 1.0000 - val_loss: 2.1521 - val_accuracy: 0.2778\n",
      "Epoch 92/100\n",
      "5/5 [==============================] - 0s 5ms/step - loss: 0.0272 - accuracy: 1.0000 - val_loss: 2.1526 - val_accuracy: 0.2778\n",
      "Epoch 93/100\n",
      "5/5 [==============================] - 0s 5ms/step - loss: 0.0303 - accuracy: 1.0000 - val_loss: 2.1529 - val_accuracy: 0.2778\n",
      "Epoch 94/100\n",
      "5/5 [==============================] - 0s 6ms/step - loss: 0.0291 - accuracy: 1.0000 - val_loss: 2.1544 - val_accuracy: 0.2778\n",
      "Epoch 95/100\n",
      "5/5 [==============================] - 0s 6ms/step - loss: 0.0239 - accuracy: 1.0000 - val_loss: 2.1557 - val_accuracy: 0.2778\n",
      "Epoch 96/100\n",
      "5/5 [==============================] - 0s 4ms/step - loss: 0.0246 - accuracy: 1.0000 - val_loss: 2.1549 - val_accuracy: 0.2778\n",
      "Epoch 97/100\n",
      "5/5 [==============================] - 0s 5ms/step - loss: 0.0257 - accuracy: 1.0000 - val_loss: 2.1554 - val_accuracy: 0.2778\n",
      "Epoch 98/100\n",
      "5/5 [==============================] - 0s 6ms/step - loss: 0.0252 - accuracy: 1.0000 - val_loss: 2.1565 - val_accuracy: 0.2778\n",
      "Epoch 99/100\n",
      "5/5 [==============================] - 0s 6ms/step - loss: 0.0249 - accuracy: 1.0000 - val_loss: 2.1558 - val_accuracy: 0.2778\n",
      "Epoch 100/100\n",
      "5/5 [==============================] - 0s 6ms/step - loss: 0.0219 - accuracy: 1.0000 - val_loss: 2.1568 - val_accuracy: 0.2778\n"
     ]
    },
    {
     "data": {
      "text/plain": [
       "<tensorflow.python.keras.callbacks.History at 0x2332cd1c280>"
      ]
     },
     "execution_count": 34,
     "metadata": {},
     "output_type": "execute_result"
    }
   ],
   "source": [
    "model.fit(X_train, y_train, epochs=100, validation_data=(X_valid, y_valid))"
   ]
  },
  {
   "cell_type": "code",
   "execution_count": null,
   "metadata": {},
   "outputs": [],
   "source": [
    "X_train.shape"
   ]
  },
  {
   "cell_type": "code",
   "execution_count": null,
   "metadata": {},
   "outputs": [],
   "source": []
  },
  {
   "cell_type": "code",
   "execution_count": null,
   "metadata": {},
   "outputs": [],
   "source": []
  },
  {
   "cell_type": "code",
   "execution_count": null,
   "metadata": {},
   "outputs": [],
   "source": [
    "cumsum = np.cumsum(pca.explained_variance_ratio_)\n",
    "for i, val in enumerate(pca.explained_variance_ratio_):\n",
    "    print(i, \"{:.4f} {:.4f}\".format(100*val, 100*cumsum[i]))"
   ]
  },
  {
   "cell_type": "code",
   "execution_count": null,
   "metadata": {},
   "outputs": [],
   "source": [
    "for i in range(180):\n",
    "    print(X_pca[i, 0], y_full[i])"
   ]
  },
  {
   "cell_type": "code",
   "execution_count": null,
   "metadata": {},
   "outputs": [],
   "source": []
  },
  {
   "cell_type": "code",
   "execution_count": null,
   "metadata": {},
   "outputs": [],
   "source": []
  },
  {
   "cell_type": "code",
   "execution_count": null,
   "metadata": {},
   "outputs": [],
   "source": []
  },
  {
   "cell_type": "code",
   "execution_count": null,
   "metadata": {},
   "outputs": [],
   "source": []
  },
  {
   "cell_type": "code",
   "execution_count": null,
   "metadata": {},
   "outputs": [],
   "source": []
  },
  {
   "cell_type": "code",
   "execution_count": null,
   "metadata": {},
   "outputs": [],
   "source": []
  },
  {
   "cell_type": "code",
   "execution_count": null,
   "metadata": {},
   "outputs": [],
   "source": []
  },
  {
   "cell_type": "code",
   "execution_count": null,
   "metadata": {},
   "outputs": [],
   "source": []
  },
  {
   "cell_type": "code",
   "execution_count": null,
   "metadata": {},
   "outputs": [],
   "source": []
  },
  {
   "cell_type": "code",
   "execution_count": null,
   "metadata": {},
   "outputs": [],
   "source": []
  },
  {
   "cell_type": "code",
   "execution_count": null,
   "metadata": {},
   "outputs": [],
   "source": []
  },
  {
   "cell_type": "code",
   "execution_count": null,
   "metadata": {},
   "outputs": [],
   "source": []
  },
  {
   "cell_type": "code",
   "execution_count": null,
   "metadata": {},
   "outputs": [],
   "source": []
  }
 ],
 "metadata": {
  "kernelspec": {
   "display_name": "Python 3",
   "language": "python",
   "name": "python3"
  },
  "language_info": {
   "codemirror_mode": {
    "name": "ipython",
    "version": 3
   },
   "file_extension": ".py",
   "mimetype": "text/x-python",
   "name": "python",
   "nbconvert_exporter": "python",
   "pygments_lexer": "ipython3",
   "version": "3.7.4"
  }
 },
 "nbformat": 4,
 "nbformat_minor": 2
}
